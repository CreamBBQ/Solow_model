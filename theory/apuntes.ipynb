{
 "cells": [
  {
   "cell_type": "markdown",
   "metadata": {},
   "source": [
    "## Cápitulo 1\n",
    "\n",
    "Las teorías de Solow ayudaron a aclarar el papel de la acumulación del capital físico e  insistieron en la importancia del progresoteconológico como la fuerza impulsora definitiva detras del crecimiento económico sostenido. \n",
    "\n",
    "Al igual que los economistas, los astrónomos se ven imposibilitados para realizar los experimetnos controlados que son la característica de la química y la física. En lugar de ello las astronomía avanza mediante una interacción entre las observaciones y la teoría. \n",
    "\n",
    "Nuestro estudio se centrará en los datos sobre las medidas del ingreso per cápita en lugar de presentar datos como las expectativas de vida, la mortalidad infantil, u otras medidas de la calidad de vida. La razón principal de este enfoque es que las teorías que se desarrollarán en capítulos posteriores se formularán en término del ingreso per cápita. Además el ingreso per cápita es una 'estadística resumidad' útil del nivel de desarrollo económico, en el sentido de que está en extremo correlacionada con otras medidas de la calidad de vida.\n",
    "\n",
    "Algunos informes en los periódico pueden ser engañosos, porque por lo general para estas compraciones se usan los tipos de cambio del mercado. El PIB de EUA se mide en dólares, mientras que el PIB japonés se mide en yenes ¿Cómo convertir el yen japonés a dólares, con el fin \n",
    "de hacer una comparación? Una forma es utilizar los tipos de cambio prevalencientes. Sin embargo, los tipos de cambio pueden ser extremadamente volátiles. Cual es el cambio correcto es una cuestión crucial que se deja en manos de la especulación muchas veces. En lugar de apoyarse en los tipos de cambios prevalencientes para hacer comparaciones internacionales del PIB, los economistas intentan medir el valor real de una moneda en términos de su capacidad de comprar productos similares. En ocasiones, al factor de conversión resultante se le denomina tipo de cambio ajustado-paridad del poder adquisitivo (ppp - ppa). \n",
    "\n",
    "El PIB per cápita es una medida más general del bienestar, en cuanto a que informa cuánta producción por persona está dispobile para consumo, ibersión o algún otro uso. Por otra parte, el PIB por trabajador informa más sobre la productividad de la fuerza laboral. En este sentido, se puede pensar en la primera estadística como una medida del bienestar, mientras que la segunda es una medida de la productividad. Si bien desde el vamos esta podría ser una interpretación correcta, podríamos decir que el PIB por trabajador también es una buena medida de bienestar dado que las personas que no se han contado oficialmente como parte de la fuerza laboral quizá estén dedicadas a una 'producción del hogar' o quizá trabajen en la economía informal. Ninguna de estas actividades se incluye en el PIB y, en este caso, si se divide la producción medida entre el dato del trabajo medido quizá resulte más exacto para hacer comparaciones de bienestar. \n",
    "\n",
    "Cualquiera que sea la medida que se use los datos siempre muestran una cuestión fundamental: cuanto más sea el 'esfuerzo' que aplique una economía para generar producción, mayor es la producción que existirá. En este contexto el 'esfuerzo' corresponde a la tasa de participación de la fuerza laboral.\n",
    "\n",
    "La cantidad de años en los que se duplicará el PIB es una medida interesante planteada por Lucas. \n",
    "\n",
    "La posición relativa de un país en la distribución mundial del ingreso per cápita no es inmutable. Los paúses pueden cambiar de ser 'pobres' a ser 'ricos' y viceversa. \n",
    "\n",
    "En EU durante el último siglo, se observa lo siguiente: 1. La tasa real de rendimiento a capital, r, no muestra tendencia ascendente ni descendente; Las partes del ingreso dedicadas al cápital, rK/Y y al trabajo, wL/Y, no muestran tendencias; La tasa de crecimiento promedio de la producción por persona ha sido positiva y relativamente constante en el tiempo: por ejemplo EU muestra un crecimiento del ingreso per cápita constante, sostenido.\n",
    "\n",
    "El crecimiento en la producción y el crecimiento en el volumen del comercio (la suma entre las exportaciones y las importaciones) internacional están estrechamente relacionados.\n",
    "\n",
    "Tanto los trabajadores calificados como los no calificados tienden a emigrar de países o regiones pobres a los ricos.\n",
    "\n",
    "¿Por qué somos tan ricos y ellos tan pobres? Es una pregunta sobre niveles de desarrollo y la distribución mundial de los ingresos per cápita. \n",
    "\n",
    "¿Cuál es el motor del crecimiento económico? La respuesta a estas preguntas: el progeso tecnológico.\n",
    "\n",
    "Lucas 1988 luego de haberse centrado en cuestiones microeconómicas reflexiona sobre el crecimiento económico y sentencia: Las consecuencias para el bienestar humanos que se encuentran en preguntas como estas son simplemente asombrosas: una vez que se comienza a pensar en ellas es dificíl pensar en cualquier otra cosa. "
   ]
  },
  {
   "cell_type": "markdown",
   "metadata": {},
   "source": [
    "## Cápitulo 2 Introducción\n",
    "\n",
    "'Toda teoría depende de suposiciones que no son totalmente ciertas. Por eso son teorías. El arte de elaborar teortías con éxito consiste en hacer las inevitables suposiciones simplificadores en forma tal que los resultados finales no sean muy sensibles.'\n",
    "Este modelo proporciona una piedra angular importante para comprender por qué algunos países son inmensamente ricos en tato que otros están empobrecidos. \n",
    "En la economía moderna, un modelo es la representación matemática de algún aspecto de la economía. Lo más fácil es pensar en los modelos como economías de juguete, poblasdas por robots, y especificamos con exactitud cómo se comportan los robots, lo cual por lo común consiste en maximicar su propia utilidad. Con frecuencia, los mejores modelos son muy sencillos, pero transmiten un gran discernimiento sobre cómo funciona el mundo. "
   ]
  },
  {
   "cell_type": "markdown",
   "metadata": {},
   "source": [
    "## Cápitulo 2 Práctica \n",
    "\n",
    "El modelo de Solow está construido alrededor de dos ecuaciones: una función de producción y una ecuación de acumulación de capital. La función de producción describe de qué manera insumos como máquinas excavadoras de tierra, semiconductores, ingenieros y trabajadores del acero se combinan para generar un producto. A fin de simplificar el modelo se agrupan estos insumos en dos categorías, capital K y trabajo L, y el producto se representa como Y. Se supone que la función de producción tiene la forma de Cobb-Douglas y se determina por "
   ]
  },
  {
   "cell_type": "markdown",
   "metadata": {},
   "source": [
    "$$ Y= F(X,L) = X^\\alpha L^{1-\\alpha} $$ "
   ]
  },
  {
   "cell_type": "markdown",
   "metadata": {},
   "source": [
    "donde $\\alpha$ es algún número entre 0 y 1. Obsérvese que esta función de producción muestra rendimientos constantes a escala, es decir, si se duplican todos los insumos, la producción se duplicará exactamente. \n",
    "Las empresas en esta economía pagan a los trabajadores un salario, w, por cada unidad de trabajo y pagan r con el fin de arrendar una unidad de capital por un periodo. Se supone que exite un gran número de empresas en la economía, por lo que las empresas son tomadores de precios. Luego de normalizar el precio de la producción en nuestra economía a la unidad, las empresas maximizadoras de beneficios solucionan el siguiente problema "
   ]
  },
  {
   "cell_type": "markdown",
   "metadata": {},
   "source": [
    "$$ \\max_{K,L} \\quad F(K,L)-rK-wL$$"
   ]
  },
  {
   "cell_type": "markdown",
   "metadata": {},
   "source": [
    "Como es usual en este tipo de problemas las condiciones de primer orden del problemas refleja que las firmas contratarán trabajo hasta que el producto marginal del trabajo sea igual al salario. A su vez, arrendarán capital hasta que el producto marginal del capital sea igual al precio de alquiler. Además, al haber competencia perfecta, los pagos a los insumos agotarán por completo el valor de la producción fabricada por lo que no hay ganancias económicas que obtener. "
   ]
  }
 ],
 "metadata": {
  "language_info": {
   "name": "python"
  },
  "orig_nbformat": 4
 },
 "nbformat": 4,
 "nbformat_minor": 2
}
