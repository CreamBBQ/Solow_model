{
 "cells": [
  {
   "cell_type": "markdown",
   "metadata": {},
   "source": [
    "## Cápitulo 1\n",
    "\n",
    "Las teorías de Solow ayudaron a aclarar el papel de la acumulación del capital físico e  insistieron en la importancia del progresoteconológico como la fuerza impulsora definitiva detras del crecimiento económico sostenido. \n",
    "\n",
    "Al igual que los economistas, los astrónomos se ven imposibilitados para realizar los experimetnos controlados que son la característica de la química y la física. En lugar de ello las astronomía avanza mediante una interacción entre las observaciones y la teoría. \n",
    "\n",
    "Nuestro estudio se centrará en los datos sobre las medidas del ingreso per cápita en lugar de presentar datos como las expectativas de vida, la mortalidad infantil, u otras medidas de la calidad de vida. La razón principal de este enfoque es que las teorías que se desarrollarán en capítulos posteriores se formularán en término del ingreso per cápita. Además el ingreso per cápita es una 'estadística resumidad' útil del nivel de desarrollo económico, en el sentido de que está en extremo correlacionada con otras medidas de la calidad de vida.\n",
    "\n",
    "Algunos informes en los periódico pueden ser engañosos, porque por lo general para estas compraciones se usan los tipos de cambio del mercado. El PIB de EUA se mide en dólares, mientras que el PIB japonés se mide en yenes ¿Cómo convertir el yen japonés a dólares, con el fin \n",
    "de hacer una comparación? Una forma es utilizar los tipos de cambio prevalencientes. Sin embargo, los tipos de cambio pueden ser extremadamente volátiles. Cual es el cambio correcto es una cuestión crucial que se deja en manos de la especulación muchas veces. En lugar de apoyarse en los tipos de cambios prevalencientes para hacer comparaciones internacionales del PIB, los economistas intentan medir el valor real de una moneda en términos de su capacidad de comprar productos similares. En ocasiones, al factor de conversión resultante se le denomina tipo de cambio ajustado-paridad del poder adquisitivo (ppp - ppa). \n",
    "\n",
    "El PIB per cápita es una medida más general del bienestar, en cuanto a que informa cuánta producción por persona está dispobile para consumo, ibersión o algún otro uso. Por otra parte, el PIB por trabajador informa más sobre la productividad de la fuerza laboral. En este sentido, se puede pensar en la primera estadística como una medida del bienestar, mientras que la segunda es una medida de la productividad. Si bien desde el vamos esta podría ser una interpretación correcta, podríamos decir que el PIB por trabajador también es una buena medida de bienestar dado que las personas que no se han contado oficialmente como parte de la fuerza laboral quizá estén dedicadas a una 'producción del hogar' o quizá trabajen en la economía informal. Ninguna de estas actividades se incluye en el PIB y, en este caso, si se divide la producción medida entre el dato del trabajo medido quizá resulte más exacto para hacer comparaciones de bienestar. \n",
    "\n",
    "Cualquiera que sea la medida que se use los datos siempre muestran una cuestión fundamental: cuanto más sea el 'esfuerzo' que aplique una economía para generar producción, mayor es la producción que existirá. En este contexto el 'esfuerzo' corresponde a la tasa de participación de la fuerza laboral.\n",
    "\n",
    "La cantidad de años en los que se duplicará el PIB es una medida interesante planteada por Lucas. \n",
    "\n",
    "La posición relativa de un país en la distribución mundial del ingreso per cápita no es inmutable. Los paúses pueden cambiar de ser 'pobres' a ser 'ricos' y viceversa. \n",
    "\n",
    "En EU durante el último siglo, se observa lo siguiente: 1. La tasa real de rendimiento a capital, r, no muestra tendencia ascendente ni descendente; Las partes del ingreso dedicadas al cápital, rK/Y y al trabajo, wL/Y, no muestran tendencias; La tasa de crecimiento promedio de la producción por persona ha sido positiva y relativamente constante en el tiempo: por ejemplo EU muestra un crecimiento del ingreso per cápita constante, sostenido.\n",
    "\n",
    "El crecimiento en la producción y el crecimiento en el volumen del comercio (la suma entre las exportaciones y las importaciones) internacional están estrechamente relacionados.\n",
    "\n",
    "Tanto los trabajadores calificados como los no calificados tienden a emigrar de países o regiones pobres a los ricos.\n",
    "\n",
    "¿Por qué somos tan ricos y ellos tan pobres? Es una pregunta sobre niveles de desarrollo y la distribución mundial de los ingresos per cápita. \n",
    "\n",
    "¿Cuál es el motor del crecimiento económico? La respuesta a estas preguntas: el progeso tecnológico.\n",
    "\n",
    "Lucas 1988 luego de haberse centrado en cuestiones microeconómicas reflexiona sobre el crecimiento económico y sentencia: Las consecuencias para el bienestar humanos que se encuentran en preguntas como estas son simplemente asombrosas: una vez que se comienza a pensar en ellas es dificíl pensar en cualquier otra cosa. "
   ]
  },
  {
   "cell_type": "markdown",
   "metadata": {},
   "source": [
    "## Cápitulo 2\n",
    "\n",
    "'Toda teoría depende de suposiciones que no son totalmente ciertas. Por eso son teorías. El arte de elaborar teortías con éxito consiste en hacer las inevitables suposiciones simplificadores en forma tal qeu los resultados finales no sean muy sensibles.'"
   ]
  }
 ],
 "metadata": {
  "language_info": {
   "name": "python"
  },
  "orig_nbformat": 4
 },
 "nbformat": 4,
 "nbformat_minor": 2
}
