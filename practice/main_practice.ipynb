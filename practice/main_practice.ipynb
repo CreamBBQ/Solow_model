{
 "cells": [
  {
   "cell_type": "code",
   "execution_count": 1,
   "metadata": {},
   "outputs": [],
   "source": [
    "import pandas as pd \n",
    "import numpy as np "
   ]
  },
  {
   "cell_type": "code",
   "execution_count": 3,
   "metadata": {},
   "outputs": [
    {
     "data": {
      "text/html": [
       "<div>\n",
       "<style scoped>\n",
       "    .dataframe tbody tr th:only-of-type {\n",
       "        vertical-align: middle;\n",
       "    }\n",
       "\n",
       "    .dataframe tbody tr th {\n",
       "        vertical-align: top;\n",
       "    }\n",
       "\n",
       "    .dataframe thead th {\n",
       "        text-align: right;\n",
       "    }\n",
       "</style>\n",
       "<table border=\"1\" class=\"dataframe\">\n",
       "  <thead>\n",
       "    <tr style=\"text-align: right;\">\n",
       "      <th></th>\n",
       "      <th>VariableCode</th>\n",
       "      <th>RegionCode</th>\n",
       "      <th>YearCode</th>\n",
       "      <th>AggValue</th>\n",
       "    </tr>\n",
       "  </thead>\n",
       "  <tbody>\n",
       "    <tr>\n",
       "      <th>0</th>\n",
       "      <td>rgdpe</td>\n",
       "      <td>COL</td>\n",
       "      <td>1950</td>\n",
       "      <td>40330.343750</td>\n",
       "    </tr>\n",
       "    <tr>\n",
       "      <th>1</th>\n",
       "      <td>rgdpo</td>\n",
       "      <td>COL</td>\n",
       "      <td>1950</td>\n",
       "      <td>40504.574219</td>\n",
       "    </tr>\n",
       "    <tr>\n",
       "      <th>2</th>\n",
       "      <td>pop</td>\n",
       "      <td>COL</td>\n",
       "      <td>1950</td>\n",
       "      <td>11.618923</td>\n",
       "    </tr>\n",
       "    <tr>\n",
       "      <th>3</th>\n",
       "      <td>emp</td>\n",
       "      <td>COL</td>\n",
       "      <td>1950</td>\n",
       "      <td>3.345374</td>\n",
       "    </tr>\n",
       "    <tr>\n",
       "      <th>4</th>\n",
       "      <td>avh</td>\n",
       "      <td>COL</td>\n",
       "      <td>1950</td>\n",
       "      <td>2323.000000</td>\n",
       "    </tr>\n",
       "  </tbody>\n",
       "</table>\n",
       "</div>"
      ],
      "text/plain": [
       "  VariableCode RegionCode  YearCode      AggValue\n",
       "0        rgdpe        COL      1950  40330.343750\n",
       "1        rgdpo        COL      1950  40504.574219\n",
       "2          pop        COL      1950     11.618923\n",
       "3          emp        COL      1950      3.345374\n",
       "4          avh        COL      1950   2323.000000"
      ]
     },
     "execution_count": 3,
     "metadata": {},
     "output_type": "execute_result"
    }
   ],
   "source": [
    "df = pd.read_csv('eu_col.csv')\n",
    "df.head()"
   ]
  }
 ],
 "metadata": {
  "interpreter": {
   "hash": "12a1f41f9cdc4d88b1ee063514ed2b0f6ec6d9cd287c610d2ab6d724020c34d3"
  },
  "kernelspec": {
   "display_name": "Python 3.9.7 ('base')",
   "language": "python",
   "name": "python3"
  },
  "language_info": {
   "codemirror_mode": {
    "name": "ipython",
    "version": 3
   },
   "file_extension": ".py",
   "mimetype": "text/x-python",
   "name": "python",
   "nbconvert_exporter": "python",
   "pygments_lexer": "ipython3",
   "version": "3.9.7"
  },
  "orig_nbformat": 4
 },
 "nbformat": 4,
 "nbformat_minor": 2
}
